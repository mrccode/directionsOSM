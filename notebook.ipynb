{
 "cells": [
  {
   "cell_type": "code",
   "execution_count": 4,
   "metadata": {},
   "outputs": [],
   "source": [
    "from pyroutelib2.route import Router\n",
    "from pyroutelib2.loadOsm import LoadOsm\n",
    "import csv\n",
    "import pandas as pd\n",
    "import math\n",
    "from multiprocessing import Pool, Pipe, Process, Lock\n",
    "import numpy as np\n",
    "from functools import partial"
   ]
  },
  {
   "cell_type": "markdown",
   "metadata": {},
   "source": [
    "This function counts distance between two geographical coordinates."
   ]
  },
  {
   "cell_type": "code",
   "execution_count": 5,
   "metadata": {
    "collapsed": true
   },
   "outputs": [],
   "source": [
    "def distance_between_coordinates(point1, point2):\n",
    "    point2['lat'] = float(point2['lat'])\n",
    "    point2['lon'] = float(point2['lon'])\n",
    "    point1['lat'] = float(point1['lat'])\n",
    "    point1['lon'] = float(point1['lon'])\n",
    "    ky = 40000 / 360\n",
    "    kx = math.cos(math.pi * point2['lat'] / 180.0) * ky\n",
    "    dx = math.fabs(point2['lon'] - point1['lon']) * kx\n",
    "    dy = math.fabs(point2['lat'] - point1['lat']) * ky\n",
    "    return dx * dx + dy * dy"
   ]
  },
  {
   "cell_type": "markdown",
   "metadata": {},
   "source": [
    "Function to load data from two csv files. First should contain list of objects that are the base for our research. In this case this will be real estate transactions in Katowice. Requirement is that it should have lat and lon columns.\n",
    "\n",
    "Second file should contains list of Point of Interest which we look for arround each of the objects from the first file."
   ]
  },
  {
   "cell_type": "code",
   "execution_count": 6,
   "metadata": {
    "collapsed": true
   },
   "outputs": [],
   "source": [
    "def load_data(objectsfile, poifile, sep1, sep2):\n",
    "    _objects = pd.read_csv(filepath_or_buffer=objectsfile, sep=sep1)\n",
    "    _pois = pd.read_csv(filepath_or_buffer=poifile, sep=sep2)\n",
    "    return _objects, _pois"
   ]
  },
  {
   "cell_type": "markdown",
   "metadata": {},
   "source": [
    "For a coordinate, this will return list of POIs being within given distance from the object.\n",
    "\n",
    "There definitelly is better way to do it though. One would be to sort the list based on the POIs coordinates and choose only those whose coordinates are around the object's coordinates."
   ]
  },
  {
   "cell_type": "code",
   "execution_count": 8,
   "metadata": {
    "collapsed": true
   },
   "outputs": [],
   "source": [
    "def find_closest_objects(centerPoint, pois, within_distance):\n",
    "    nearpois = []\n",
    "    for ind, row in pois.iterrows():\n",
    "        checkPoint = {\n",
    "            'lat': row['lat'],\n",
    "            'lon': row['lon'],\n",
    "        }\n",
    "        if distance_between_coordinates(centerPoint, checkPoint) < within_distance:\n",
    "            nearpois.append([checkPoint['lat'], checkPoint['lon']])\n",
    "    return nearpois"
   ]
  },
  {
   "cell_type": "markdown",
   "metadata": {},
   "source": [
    "find_pois is a function that search will return number of POIs within given distance from the object plus walking distance from the one being the closest."
   ]
  },
  {
   "cell_type": "code",
   "execution_count": 20,
   "metadata": {
    "collapsed": true
   },
   "outputs": [],
   "source": [
    "def find_pois(pois, within_distance, data, router, fprow, pipe_):\n",
    "    centerpoint = {\n",
    "        'lat': float(fprow['lat']),\n",
    "        'lon': float(fprow['lon']),\n",
    "    }\n",
    "    closest_objects = find_closest_objects(centerpoint, pois, within_distance)\n",
    "    distances = []\n",
    "    node1 = data.findNode(float(centerpoint['lat']), float(centerpoint['lon']))\n",
    "    for object_ in closest_objects:\n",
    "        if float(centerpoint['lat']) == object_[0] and float(centerpoint['lon']) == object_[1]:\n",
    "            foundroute = 'success'\n",
    "            routedistance = 0\n",
    "        else:\n",
    "            node2 = data.findNode(object_[0], object_[1])\n",
    "            foundroute, route, routedistance = router.doRoute(node1, node2)\n",
    "        if foundroute == 'success':\n",
    "            print(\"Walking distance between: %s %s and %s %s is %s\" % (centerpoint['lat'], centerpoint['lon'],\n",
    "                                                                       object_[0], object_[1], routedistance))\n",
    "            distances.append(routedistance)\n",
    "        else:\n",
    "            print(\"Failed (%s)\" % foundroute)\n",
    "    if len(distances) > 0 and min(distances):\n",
    "        fprow['NumberOfPOIs'] = len(distances)\n",
    "        fprow['DistanceToClosesPoi'] = min(distances)\n",
    "        pipe_.send(fprow)\n",
    "        return \"%s %s\" % (len(distances), min(distances))\n",
    "    else:\n",
    "        return \"0 666\""
   ]
  },
  {
   "cell_type": "markdown",
   "metadata": {},
   "source": [
    "add_distance is function that is ran bye the multiprocessing pool. It modifies the Data Frame so that it includes data about number of sorrounding POIs and distance from the closest one. "
   ]
  },
  {
   "cell_type": "code",
   "execution_count": 10,
   "metadata": {
    "collapsed": true
   },
   "outputs": [],
   "source": [
    "def add_distance(df_, pois_, within_distance_, pipe_):\n",
    "    data_ = LoadOsm(\"foot\")\n",
    "    router_ = Router(data_)\n",
    "    df_['NumberOfPOIsAndDistanceToClosestPoi'] = df_.apply(lambda row_:\n",
    "                                                           find_pois(\n",
    "                                                               pois=pois_,\n",
    "                                                               within_distance=within_distance_,\n",
    "                                                               data=data_,\n",
    "                                                               router=router_,\n",
    "                                                               fprow=row_,\n",
    "                                                               pipe_=pipe_\n",
    "                                                           ), axis=1)\n",
    "    return df_"
   ]
  },
  {
   "cell_type": "markdown",
   "metadata": {},
   "source": [
    "Calculations can take quite some time, especially if the dataset is large. Thus multiprocessing is used to utilize all processors being available. Python multiprocessing pool function is used and it requires a function with single parameter to be called. This is why partial from functools was used later, we need to pass multiple arguments somehow and this is the way to do it."
   ]
  },
  {
   "cell_type": "code",
   "execution_count": 12,
   "metadata": {
    "collapsed": true
   },
   "outputs": [],
   "source": [
    "def parallelize_dataframe(df, func):\n",
    "    df_split = np.array_split(df, num_partitions)\n",
    "    pool = Pool(num_cores)\n",
    "    df = pd.concat(pool.map(func, df_split))\n",
    "    pool.close()\n",
    "    pool.join()\n",
    "    return df"
   ]
  },
  {
   "cell_type": "markdown",
   "metadata": {},
   "source": [
    "Last function is a reader that will read a pipe and save its content to a file every 100 rows are added. The only purpose of it is so that if the program crashesh, hangs or anything else happens to it during computation, the results collected so far are not lost."
   ]
  },
  {
   "cell_type": "code",
   "execution_count": 13,
   "metadata": {
    "collapsed": true
   },
   "outputs": [],
   "source": [
    "def reader(pipeAndLock):\n",
    "    output_p, input_p, lock = pipeAndLock\n",
    "    input_p.close()\n",
    "    rowscount = 0\n",
    "    rows = []\n",
    "    while True:\n",
    "        try:\n",
    "            msg = output_p.recv()\n",
    "            rows.append(msg)\n",
    "            rowscount += 1\n",
    "            if rowscount == 100:\n",
    "                lock.acquire()\n",
    "                with open(\"output.csv\", \"a\") as f:\n",
    "                    writer = csv.writer(f)\n",
    "                    writer.writerows(rows)\n",
    "                    del rows[:]\n",
    "                    rowscount = 0\n",
    "                lock.release()\n",
    "        except EOFError:\n",
    "            writer = csv.writer(f)\n",
    "            writer.writerows(rows)\n",
    "            break"
   ]
  },
  {
   "cell_type": "markdown",
   "metadata": {},
   "source": [
    "Main function loads the data, create partial call and initializes computations."
   ]
  },
  {
   "cell_type": "code",
   "execution_count": 22,
   "metadata": {},
   "outputs": [
    {
     "name": "stdout",
     "output_type": "stream",
     "text": [
      "Walking distance between: 50.2592099 19.060313 and 50.2604655 19.0516486 is 0.7875279647373605\n",
      "Walking distance between: 50.2592099 19.060313 and 50.261469399999996 19.0585189 is 0.3369849603412221\n",
      "Walking distance between: 50.2592099 19.060313 and 50.259628 19.049823899999996 is 0.8448942786212982\n",
      "Walking distance between: 50.2592099 19.060313 and 50.2603614 19.059213800000002 is 0.18177061137384434\n",
      "Walking distance between: 50.2592099 19.060313 and 50.2604655 19.0516486 is 0.7875279647373605\n",
      "Walking distance between: 50.2592099 19.060313 and 50.2604655 19.0516486 is 0.7875279647373605\n",
      "Walking distance between: 50.2592099 19.060313 and 50.2604655 19.0516486 is 0.7875279647373605\n",
      "Walking distance between: 50.2592099 19.060313 and 50.261469399999996 19.0585189 is 0.3369849603412221\n",
      "Walking distance between: 50.2592099 19.060313 and 50.259628 19.049823899999996 is 0.8448942786212982\n",
      "Walking distance between: 50.2592099 19.060313 and 50.2603614 19.059213800000002 is 0.18177061137384434\n",
      "Walking distance between: 50.2592099 19.060313 and 50.2604655 19.0516486 is 0.7875279647373605\n",
      "Walking distance between: 50.2592099 19.060313 and 50.2604655 19.0516486 is 0.7875279647373605\n",
      "Walking distance between: 50.248954 19.0154609 and 50.254819 19.0111579 is 0.9480843670114331\n",
      "Walking distance between: 50.248954 19.0154609 and 50.252331 19.010275 is 0.6549875431905074\n",
      "Walking distance between: 50.248954 19.0154609 and 50.2497774 19.0223708 is 0.6802075697481684\n",
      "Walking distance between: 50.2492472 19.015959699999996 and 50.254819 19.0111579 is 0.9452014952876736\n",
      "Walking distance between: 50.248954 19.0154609 and 50.2427784 19.024954 is 1.6690411785881805\n",
      "Walking distance between: 50.248954 19.0154609 and 50.25179 19.009985 is 0.6155118150597502\n",
      "Walking distance between: 50.2492472 19.015959699999996 and 50.2553349 19.025973999999998 is 1.280970220490049\n",
      "Walking distance between: 50.2492472 19.015959699999996 and 50.252331 19.010275 is 0.664513789327202\n",
      "Walking distance between: 50.248954 19.0154609 and 50.254433 19.022008 is 0.9371107391234932\n",
      "Walking distance between: 50.2492472 19.015959699999996 and 50.2497774 19.0223708 is 0.6472741024853373\n",
      "Walking distance between: 50.248954 19.0154609 and 50.2427784 19.024954 is 1.6690411785881805\n",
      "Walking distance between: 50.248954 19.0154609 and 50.254819 19.0111579 is 0.9480843670114331\n",
      "Walking distance between: 50.248954 19.0154609 and 50.2497774 19.0223708 is 0.6802075697481684\n",
      "Walking distance between: 50.248954 19.0154609 and 50.254819 19.0111579 is 0.9480843670114331\n",
      "Walking distance between: 50.248954 19.0154609 and 50.252788 19.0110579 is 0.6009186510401759\n",
      "Walking distance between: 50.2492472 19.015959699999996 and 50.2427784 19.024954 is 1.6361077113253495\n",
      "Walking distance between: 50.2492472 19.015959699999996 and 50.25179 19.009985 is 0.6484452411698489\n",
      "Walking distance between: 50.2492472 19.015959699999996 and 50.254433 19.022008 is 0.9041772718606621\n",
      "Walking distance between: 50.2492472 19.015959699999996 and 50.2427784 19.024954 is 1.6361077113253495\n",
      "Walking distance between: 50.2492472 19.015959699999996 and 50.254819 19.0111579 is 0.9452014952876736\n",
      "Walking distance between: 50.2492472 19.015959699999996 and 50.2553349 19.025973999999998 is 1.280970220490049\n",
      "Walking distance between: 50.2492472 19.015959699999996 and 50.2497774 19.0223708 is 0.6472741024853373\n",
      "Walking distance between: 50.248954 19.0154609 and 50.252385 19.0029515 is 1.17113686637904\n",
      "Walking distance between: 50.2492472 19.015959699999996 and 50.254819 19.0111579 is 0.9452014952876736\n",
      "Walking distance between: 50.2492472 19.015959699999996 and 50.252788 19.0110579 is 0.6104448971768704\n",
      "Walking distance between: 50.248954 19.0154609 and 50.2485819 19.007534 is 0.9298875841493511\n",
      "Walking distance between: 50.248954 19.0154609 and 50.2522782 19.011952899999997 is 0.5159997170985502\n",
      "Walking distance between: 50.248954 19.0154609 and 50.251827 19.022334899999997 is 0.7724941902194848\n",
      "Walking distance between: 50.248954 19.0154609 and 50.251346000000005 19.025046 is 1.0078950185174307\n",
      "Walking distance between: 50.248954 19.0154609 and 50.250305700000006 19.023382 is 1.0583717270280055\n",
      "Walking distance between: 50.248954 19.0154609 and 50.2427784 19.024954 is 1.6690411785881805\n",
      "Walking distance between: 50.2492472 19.015959699999996 and 50.252385 19.0029515 is 1.2040702924891387\n",
      "Walking distance between: 50.248954 19.0154609 and 50.254819 19.0111579 is 0.9480843670114331\n",
      "Walking distance between: 50.248954 19.0154609 and 50.254433 19.022008 is 0.9371107391234932\n",
      "Walking distance between: 50.248954 19.0154609 and 50.254987799999995 19.0088935 is 1.0040989724096179\n",
      "Walking distance between: 50.248954 19.0154609 and 50.254819 19.0111579 is 0.9480843670114331\n",
      "Walking distance between: 50.248954 19.0154609 and 50.254987799999995 19.0088935 is 1.0040989724096179\n",
      "Walking distance between: 50.248954 19.0154609 and 50.2497774 19.0223708 is 0.6802075697481684\n",
      "Walking distance between: 50.248954 19.0154609 and 50.254819 19.0111579 is 0.9480843670114331\n",
      "Walking distance between: 50.248954 19.0154609 and 50.252331 19.010275 is 0.6549875431905074\n",
      "Walking distance between: 50.248954 19.0154609 and 50.2497774 19.0223708 is 0.6802075697481684\n",
      "Walking distance between: 50.248954 19.0154609 and 50.2427784 19.024954 is 1.6690411785881805\n",
      "Walking distance between: 50.2492472 19.015959699999996 and 50.2485819 19.007534 is 0.9628210102594498\n",
      "Walking distance between: 50.2492472 19.015959699999996 and 50.2522782 19.011952899999997 is 0.5255259632352447\n",
      "Walking distance between: 50.248954 19.0154609 and 50.25179 19.009985 is 0.6155118150597502\n",
      "Walking distance between: 50.2492472 19.015959699999996 and 50.251827 19.022334899999997 is 0.7395607229566538\n",
      "Walking distance between: 50.2492472 19.015959699999996 and 50.251346000000005 19.025046 is 0.9749615512545997\n",
      "Walking distance between: 50.248954 19.0154609 and 50.254433 19.022008 is 0.9371107391234932\n",
      "Walking distance between: 50.2492472 19.015959699999996 and 50.250305700000006 19.023382 is 1.0254382597651743\n",
      "Walking distance between: 50.2492472 19.015959699999996 and 50.2427784 19.024954 is 1.6361077113253495\n",
      "Walking distance between: 50.248954 19.0154609 and 50.2427784 19.024954 is 1.6690411785881805\n",
      "Walking distance between: 50.248954 19.0154609 and 50.254819 19.0111579 is 0.9480843670114331\n",
      "Walking distance between: 50.2492472 19.015959699999996 and 50.254819 19.0111579 is 0.9452014952876736\n",
      "Walking distance between: 50.248954 19.0154609 and 50.2497774 19.0223708 is 0.6802075697481684\n",
      "Walking distance between: 50.2492472 19.015959699999996 and 50.254433 19.022008 is 0.9041772718606621\n",
      "Walking distance between: 50.248954 19.0154609 and 50.254819 19.0111579 is 0.9480843670114331\n",
      "Walking distance between: 50.2492472 19.015959699999996 and 50.254987799999995 19.0088935 is 1.0136252185463124\n",
      "Walking distance between: 50.2492472 19.015959699999996 and 50.254819 19.0111579 is 0.9452014952876736\n",
      "Walking distance between: 50.248954 19.0154609 and 50.252788 19.0110579 is 0.6009186510401759\n",
      "Walking distance between: 50.248954 19.0154609 and 50.252385 19.0029515 is 1.17113686637904\n",
      "Walking distance between: 50.2492472 19.015959699999996 and 50.2553349 19.025973999999998 is 1.280970220490049\n",
      "Walking distance between: 50.2492472 19.015959699999996 and 50.254987799999995 19.0088935 is 1.0136252185463124\n",
      "Walking distance between: 50.2492472 19.015959699999996 and 50.2497774 19.0223708 is 0.6472741024853373\n",
      "Walking distance between: 50.248954 19.0154609 and 50.2485819 19.007534 is 0.9298875841493511\n",
      "Walking distance between: 50.248954 19.0154609 and 50.2522782 19.011952899999997 is 0.5159997170985502\n",
      "Walking distance between: 50.248954 19.0154609 and 50.251827 19.022334899999997 is 0.7724941902194848\n",
      "Walking distance between: 50.248954 19.0154609 and 50.251346000000005 19.025046 is 1.0078950185174307\n",
      "Walking distance between: 50.248954 19.0154609 and 50.250305700000006 19.023382 is 1.0583717270280055\n",
      "Walking distance between: 50.248954 19.0154609 and 50.2427784 19.024954 is 1.6690411785881805\n",
      "Walking distance between: 50.248954 19.0154609 and 50.254819 19.0111579 is 0.9480843670114331\n",
      "Walking distance between: 50.248954 19.0154609 and 50.254433 19.022008 is 0.9371107391234932\n"
     ]
    },
    {
     "name": "stdout",
     "output_type": "stream",
     "text": [
      "Walking distance between: 50.248954 19.0154609 and 50.254987799999995 19.0088935 is 1.0040989724096179\n",
      "Walking distance between: 50.248954 19.0154609 and 50.254819 19.0111579 is 0.9480843670114331\n",
      "Walking distance between: 50.248954 19.0154609 and 50.254987799999995 19.0088935 is 1.0040989724096179\n",
      "Walking distance between: 50.248954 19.0154609 and 50.2497774 19.0223708 is 0.6802075697481684\n",
      "Failed (gave_up)\n",
      "Walking distance between: 50.1908309 18.9829729 and 50.1885961 18.9946832 is 1.5196906550879041\n",
      "Walking distance between: 50.1908309 18.9829729 and 50.193962899999995 18.976221 is 0.8957613580104439\n",
      "Walking distance between: 50.1908309 18.9829729 and 50.193638299999996 18.9817056 is 0.37256943212337074\n",
      "Walking distance between: 50.1908309 18.9829729 and 50.197423 18.981878899999998 is 0.9039666201468635\n",
      "Walking distance between: 50.1908309 18.9829729 and 50.1887289 18.9914439 is 1.0689671550541182\n",
      "Failed (gave_up)\n",
      "Walking distance between: 50.199351899999996 18.9763032 and 50.2047388 18.986163 is 1.5326405085267378\n",
      "Failed (gave_up)\n",
      "Failed (gave_up)\n",
      "Walking distance between: 50.199351899999996 18.9763032 and 50.193962899999995 18.976221 is 1.2816097027171707\n",
      "Walking distance between: 50.199351899999996 18.9763032 and 50.193638299999996 18.9817056 is 0.8589253946894163\n",
      "Walking distance between: 50.199351899999996 18.9763032 and 50.197423 18.981878899999998 is 0.6881123278824236\n",
      "Walking distance between: 50.199351899999996 18.9763032 and 50.2048283 18.9727002 is 0.7922521158026278\n",
      "Walking distance between: 50.199351899999996 18.9763032 and 50.204958000000005 18.9871836 is 1.5705082115954967\n",
      "Failed (gave_up)\n",
      "Failed (gave_up)\n",
      "Walking distance between: 50.199351899999996 18.9763032 and 50.204928499999994 18.9774473 is 0.7808976937558777\n",
      "Walking distance between: 50.199351899999996 18.9763032 and 50.2047388 18.986163 is 1.5326405085267378\n",
      "Failed (gave_up)\n",
      "Walking distance between: 50.1908309 18.9829729 and 50.1885961 18.9946832 is 1.5196906550879041\n",
      "Walking distance between: 50.1908309 18.9829729 and 50.193962899999995 18.976221 is 0.8957613580104439\n",
      "Walking distance between: 50.1908309 18.9829729 and 50.193638299999996 18.9817056 is 0.37256943212337074\n",
      "Walking distance between: 50.1908309 18.9829729 and 50.197423 18.981878899999998 is 0.9039666201468635\n",
      "Walking distance between: 50.1908309 18.9829729 and 50.1887289 18.9914439 is 1.0689671550541182\n",
      "Failed (gave_up)\n",
      "Failed (gave_up)\n",
      "Failed (gave_up)\n",
      "Failed (gave_up)\n",
      "Walking distance between: 50.1991717 18.9763863 and 50.2047388 18.986163 is 1.5493199051025532\n",
      "Failed (gave_up)\n",
      "Walking distance between: 50.1991717 18.9763863 and 50.193962899999995 18.976221 is 1.2649303116528499\n",
      "Walking distance between: 50.1991717 18.9763863 and 50.193638299999996 18.9817056 is 0.8422460036250955\n",
      "Walking distance between: 50.1991717 18.9763863 and 50.197423 18.981878899999998 is 0.6714329368181027\n",
      "Walking distance between: 50.1991717 18.9763863 and 50.2048283 18.9727002 is 0.8089315123784432\n",
      "Failed (gave_up)\n",
      "Walking distance between: 50.1991717 18.9763863 and 50.204928499999994 18.9774473 is 0.797577090331693\n",
      "Walking distance between: 50.1991717 18.9763863 and 50.2047388 18.986163 is 1.5493199051025532\n",
      "Failed (gave_up)\n",
      "   lp.  Cena.jednostkowa.netto Z.powierzchnia.przynalezna  Data.transakcji  \\\n",
      "0   12                 3257.98                        Tak            42396   \n",
      "1  227                 4676.54                        Nie            42489   \n",
      "2  231                 1417.32                        Nie            42501   \n",
      "3  233                 5000.00                        Nie            42576   \n",
      "4  234                 3434.07                        Nie            42368   \n",
      "\n",
      "                Rodzaj.transakcji     Sprzedajacy        Kupujacy Wojewodztwo  \\\n",
      "0  umowa sprzedazy - rynek wtorny  osoba fizyczna  osoba fizyczna     Slaskie   \n",
      "1  umowa sprzedazy - rynek wtorny  osoba fizyczna  osoba fizyczna     Slaskie   \n",
      "2  umowa sprzedazy - rynek wtorny          spolka  osoba fizyczna     Slaskie   \n",
      "3  umowa sprzedazy - rynek wtorny  osoba fizyczna  osoba fizyczna     Slaskie   \n",
      "4  umowa sprzedazy - rynek wtorny  osoba fizyczna  osoba fizyczna     Slaskie   \n",
      "\n",
      "     Powiat     Gmina                 ...                   \\\n",
      "0  Katowice  Katowice                 ...                    \n",
      "1  Katowice  Katowice                 ...                    \n",
      "2  Katowice  Katowice                 ...                    \n",
      "3  Katowice  Katowice                 ...                    \n",
      "4  Katowice  Katowice                 ...                    \n",
      "\n",
      "  Pow..lokalu.obliczeniowa liczba.pokoi Stan.techniczny.lokalu  \\\n",
      "0                    45.12          2.0                    NaN   \n",
      "1                   102.64          2.0                    NaN   \n",
      "2                    25.40          NaN                    NaN   \n",
      "3                    36.00          1.0                    NaN   \n",
      "4                    36.40          1.0                    NaN   \n",
      "\n",
      "       Rok.budowy Cena.netto                Adres   X        lon        lat  \\\n",
      "0             NaN     147000           1 Maja 148 NaN  19.060313  50.259210   \n",
      "1  lata 2000-2009     480000   Armii Krajowej 190 NaN  18.976303  50.199352   \n",
      "2             NaN      36000   Armii Krajowej 309 NaN  18.982973  50.190831   \n",
      "3             NaN     180000  Armii Krajowej 190B NaN  18.976386  50.199172   \n",
      "4             NaN     125000            Asnyka 22 NaN  15.573462  51.261462   \n",
      "\n",
      "   NumberOfPOIsAndDistanceToClosestPoi  \n",
      "0                6 0.18177061137384434  \n",
      "1                 8 0.6881123278824236  \n",
      "2                5 0.37256943212337074  \n",
      "3                 7 0.6714329368181027  \n",
      "4                                0 666  \n",
      "\n",
      "[5 rows x 27 columns]\n"
     ]
    },
    {
     "name": "stderr",
     "output_type": "stream",
     "text": [
      "Process Process-42:\n",
      "Traceback (most recent call last):\n",
      "  File \"/home/mapastec/anaconda3/lib/python3.6/multiprocessing/process.py\", line 249, in _bootstrap\n",
      "    self.run()\n",
      "  File \"/home/mapastec/anaconda3/lib/python3.6/multiprocessing/process.py\", line 93, in run\n",
      "    self._target(*self._args, **self._kwargs)\n",
      "  File \"<ipython-input-13-5138f69df2a1>\", line 8, in reader\n",
      "    msg = output_p.recv()\n"
     ]
    },
    {
     "ename": "KeyboardInterrupt",
     "evalue": "",
     "output_type": "error",
     "traceback": [
      "\u001b[0;31m---------------------------------------------------------------------------\u001b[0m",
      "\u001b[0;31mKeyboardInterrupt\u001b[0m                         Traceback (most recent call last)",
      "\u001b[0;32m<ipython-input-22-2cc15b7fc035>\u001b[0m in \u001b[0;36m<module>\u001b[0;34m()\u001b[0m\n\u001b[1;32m     24\u001b[0m     \u001b[0mprint\u001b[0m\u001b[0;34m(\u001b[0m\u001b[0moutputdf\u001b[0m\u001b[0;34m.\u001b[0m\u001b[0mhead\u001b[0m\u001b[0;34m(\u001b[0m\u001b[0;34m)\u001b[0m\u001b[0;34m)\u001b[0m\u001b[0;34m\u001b[0m\u001b[0m\n\u001b[1;32m     25\u001b[0m     \u001b[0moutputdf\u001b[0m\u001b[0;34m.\u001b[0m\u001b[0mto_csv\u001b[0m\u001b[0;34m(\u001b[0m\u001b[0;34m'outputdf.csv'\u001b[0m\u001b[0;34m,\u001b[0m \u001b[0msep\u001b[0m\u001b[0;34m=\u001b[0m\u001b[0;34m';'\u001b[0m\u001b[0;34m)\u001b[0m\u001b[0;34m\u001b[0m\u001b[0m\n\u001b[0;32m---> 26\u001b[0;31m     \u001b[0mreader_p\u001b[0m\u001b[0;34m.\u001b[0m\u001b[0mjoin\u001b[0m\u001b[0;34m(\u001b[0m\u001b[0;34m)\u001b[0m\u001b[0;34m\u001b[0m\u001b[0m\n\u001b[0m",
      "\u001b[0;32m/home/mapastec/anaconda3/lib/python3.6/multiprocessing/process.py\u001b[0m in \u001b[0;36mjoin\u001b[0;34m(self, timeout)\u001b[0m\n\u001b[1;32m    119\u001b[0m         \u001b[0;32massert\u001b[0m \u001b[0mself\u001b[0m\u001b[0;34m.\u001b[0m\u001b[0m_parent_pid\u001b[0m \u001b[0;34m==\u001b[0m \u001b[0mos\u001b[0m\u001b[0;34m.\u001b[0m\u001b[0mgetpid\u001b[0m\u001b[0;34m(\u001b[0m\u001b[0;34m)\u001b[0m\u001b[0;34m,\u001b[0m \u001b[0;34m'can only join a child process'\u001b[0m\u001b[0;34m\u001b[0m\u001b[0m\n\u001b[1;32m    120\u001b[0m         \u001b[0;32massert\u001b[0m \u001b[0mself\u001b[0m\u001b[0;34m.\u001b[0m\u001b[0m_popen\u001b[0m \u001b[0;32mis\u001b[0m \u001b[0;32mnot\u001b[0m \u001b[0;32mNone\u001b[0m\u001b[0;34m,\u001b[0m \u001b[0;34m'can only join a started process'\u001b[0m\u001b[0;34m\u001b[0m\u001b[0m\n\u001b[0;32m--> 121\u001b[0;31m         \u001b[0mres\u001b[0m \u001b[0;34m=\u001b[0m \u001b[0mself\u001b[0m\u001b[0;34m.\u001b[0m\u001b[0m_popen\u001b[0m\u001b[0;34m.\u001b[0m\u001b[0mwait\u001b[0m\u001b[0;34m(\u001b[0m\u001b[0mtimeout\u001b[0m\u001b[0;34m)\u001b[0m\u001b[0;34m\u001b[0m\u001b[0m\n\u001b[0m\u001b[1;32m    122\u001b[0m         \u001b[0;32mif\u001b[0m \u001b[0mres\u001b[0m \u001b[0;32mis\u001b[0m \u001b[0;32mnot\u001b[0m \u001b[0;32mNone\u001b[0m\u001b[0;34m:\u001b[0m\u001b[0;34m\u001b[0m\u001b[0m\n\u001b[1;32m    123\u001b[0m             \u001b[0m_children\u001b[0m\u001b[0;34m.\u001b[0m\u001b[0mdiscard\u001b[0m\u001b[0;34m(\u001b[0m\u001b[0mself\u001b[0m\u001b[0;34m)\u001b[0m\u001b[0;34m\u001b[0m\u001b[0m\n",
      "\u001b[0;32m/home/mapastec/anaconda3/lib/python3.6/multiprocessing/popen_fork.py\u001b[0m in \u001b[0;36mwait\u001b[0;34m(self, timeout)\u001b[0m\n\u001b[1;32m     49\u001b[0m                     \u001b[0;32mreturn\u001b[0m \u001b[0;32mNone\u001b[0m\u001b[0;34m\u001b[0m\u001b[0m\n\u001b[1;32m     50\u001b[0m             \u001b[0;31m# This shouldn't block if wait() returned successfully.\u001b[0m\u001b[0;34m\u001b[0m\u001b[0;34m\u001b[0m\u001b[0m\n\u001b[0;32m---> 51\u001b[0;31m             \u001b[0;32mreturn\u001b[0m \u001b[0mself\u001b[0m\u001b[0;34m.\u001b[0m\u001b[0mpoll\u001b[0m\u001b[0;34m(\u001b[0m\u001b[0mos\u001b[0m\u001b[0;34m.\u001b[0m\u001b[0mWNOHANG\u001b[0m \u001b[0;32mif\u001b[0m \u001b[0mtimeout\u001b[0m \u001b[0;34m==\u001b[0m \u001b[0;36m0.0\u001b[0m \u001b[0;32melse\u001b[0m \u001b[0;36m0\u001b[0m\u001b[0;34m)\u001b[0m\u001b[0;34m\u001b[0m\u001b[0m\n\u001b[0m\u001b[1;32m     52\u001b[0m         \u001b[0;32mreturn\u001b[0m \u001b[0mself\u001b[0m\u001b[0;34m.\u001b[0m\u001b[0mreturncode\u001b[0m\u001b[0;34m\u001b[0m\u001b[0m\n\u001b[1;32m     53\u001b[0m \u001b[0;34m\u001b[0m\u001b[0m\n",
      "\u001b[0;32m/home/mapastec/anaconda3/lib/python3.6/multiprocessing/popen_fork.py\u001b[0m in \u001b[0;36mpoll\u001b[0;34m(self, flag)\u001b[0m\n\u001b[1;32m     27\u001b[0m             \u001b[0;32mwhile\u001b[0m \u001b[0;32mTrue\u001b[0m\u001b[0;34m:\u001b[0m\u001b[0;34m\u001b[0m\u001b[0m\n\u001b[1;32m     28\u001b[0m                 \u001b[0;32mtry\u001b[0m\u001b[0;34m:\u001b[0m\u001b[0;34m\u001b[0m\u001b[0m\n\u001b[0;32m---> 29\u001b[0;31m                     \u001b[0mpid\u001b[0m\u001b[0;34m,\u001b[0m \u001b[0msts\u001b[0m \u001b[0;34m=\u001b[0m \u001b[0mos\u001b[0m\u001b[0;34m.\u001b[0m\u001b[0mwaitpid\u001b[0m\u001b[0;34m(\u001b[0m\u001b[0mself\u001b[0m\u001b[0;34m.\u001b[0m\u001b[0mpid\u001b[0m\u001b[0;34m,\u001b[0m \u001b[0mflag\u001b[0m\u001b[0;34m)\u001b[0m\u001b[0;34m\u001b[0m\u001b[0m\n\u001b[0m\u001b[1;32m     30\u001b[0m                 \u001b[0;32mexcept\u001b[0m \u001b[0mOSError\u001b[0m \u001b[0;32mas\u001b[0m \u001b[0me\u001b[0m\u001b[0;34m:\u001b[0m\u001b[0;34m\u001b[0m\u001b[0m\n\u001b[1;32m     31\u001b[0m                     \u001b[0;31m# Child process not yet created. See #1731717\u001b[0m\u001b[0;34m\u001b[0m\u001b[0;34m\u001b[0m\u001b[0m\n",
      "\u001b[0;31mKeyboardInterrupt\u001b[0m: "
     ]
    },
    {
     "name": "stderr",
     "output_type": "stream",
     "text": [
      "  File \"/home/mapastec/anaconda3/lib/python3.6/multiprocessing/connection.py\", line 250, in recv\n",
      "    buf = self._recv_bytes()\n",
      "  File \"/home/mapastec/anaconda3/lib/python3.6/multiprocessing/connection.py\", line 407, in _recv_bytes\n",
      "    buf = self._recv(4)\n",
      "  File \"/home/mapastec/anaconda3/lib/python3.6/multiprocessing/connection.py\", line 379, in _recv\n",
      "    chunk = read(handle, remaining)\n",
      "KeyboardInterrupt\n"
     ]
    }
   ],
   "source": [
    "if __name__ == \"__main__\":\n",
    "\n",
    "    num_partitions = 4  # number of partitions to split dataframe\n",
    "    num_cores = 4  # number of cores on your machine\n",
    "\n",
    "    folder = \"/home/mapastec/Documents/studia/KoloNaukowe/dane/\"\n",
    "\n",
    "    objects, pois = load_data(objectsfile=\"%sremaster_lokale.csv\" %folder,\n",
    "                              poifile=\"%sszkolykur.csv\" %folder,\n",
    "                              sep1=',', sep2=';')\n",
    "    within_distance = 1\n",
    "    output_p, input_p = Pipe()\n",
    "    lock = Lock()\n",
    "\n",
    "    reader_p = Process(target=reader, args=((output_p, input_p, lock),))\n",
    "    reader_p.start()\n",
    "    output_p.close()\n",
    "\n",
    "    partialAddDistance = partial(add_distance, pois_=pois, within_distance_=within_distance,\n",
    "                                 pipe_=input_p)\n",
    "\n",
    "    outputdf = parallelize_dataframe(objects, partialAddDistance)\n",
    "\n",
    "    print(outputdf.head())\n",
    "    outputdf.to_csv('outputdf.csv', sep=';')\n",
    "    reader_p.join()"
   ]
  }
 ],
 "metadata": {
  "kernelspec": {
   "display_name": "Python 3",
   "language": "python",
   "name": "python3"
  },
  "language_info": {
   "codemirror_mode": {
    "name": "ipython",
    "version": 3
   },
   "file_extension": ".py",
   "mimetype": "text/x-python",
   "name": "python",
   "nbconvert_exporter": "python",
   "pygments_lexer": "ipython3",
   "version": "3.6.1"
  }
 },
 "nbformat": 4,
 "nbformat_minor": 2
}
